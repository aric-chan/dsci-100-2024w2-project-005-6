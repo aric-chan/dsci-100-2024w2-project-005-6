{
 "cells": [
  {
   "cell_type": "code",
   "execution_count": null,
   "id": "1f82e1b7-2670-4e0d-8858-690642f3076a",
   "metadata": {},
   "outputs": [],
   "source": [
    "library(tidyverse)\n",
    "library(tibble)\n",
    "library(repr)\n",
    "library(tidymodels)\n",
    "library(GGally)\n",
    "library(ISLR)\n",
    "options(repr.matrix.max.rows = 6)\n",
    "source(\"cleanup.R\")"
   ]
  },
  {
   "cell_type": "code",
   "execution_count": null,
   "id": "feb4eec4-87ed-4490-a6db-528c26aa4ff4",
   "metadata": {},
   "outputs": [],
   "source": [
    "players <- read_csv(\"players.csv\")\n",
    "players"
   ]
  },
  {
   "cell_type": "code",
   "execution_count": null,
   "id": "c9d1abe5-51b2-4c27-812c-dbc58dc062b5",
   "metadata": {},
   "outputs": [],
   "source": [
    "# Turn experience column into numeric values\n",
    "\n",
    "clean_players <- players|>\n",
    "                 mutate(experience_num = case_when(\n",
    "                    experience == \"Pro\" ~ 5,\n",
    "                    experience == \"Veteran\" ~ 4,\n",
    "                    experience == \"Regular\" ~ 3,\n",
    "                    experience == \"Amateur\" ~ 2,\n",
    "                    experience == \"Beginner\" ~ 1))\n",
    "                 \n",
    "                 \n",
    "clean_players                 "
   ]
  },
  {
   "cell_type": "code",
   "execution_count": null,
   "id": "1114840e-4259-4b97-9f53-543454eaf94c",
   "metadata": {},
   "outputs": [],
   "source": [
    "player_split <- initial_split(clean_players, prop = 0.80, strata = played_hours)\n",
    "player_training <- training(player_split)\n",
    "player_testing <- testing(player_split)"
   ]
  },
  {
   "cell_type": "code",
   "execution_count": null,
   "id": "6a4f140e-2086-4e5f-a958-0df5de98b799",
   "metadata": {},
   "outputs": [],
   "source": [
    "player_spec <- linear_reg()|>\n",
    "               set_engine(\"lm\")|>\n",
    "               set_mode(\"regression\")\n",
    "\n",
    "player_recipe <- recipe(played_hours ~ experience_num + Age, data = clean_players)\n",
    "\n",
    "player_fit <- workflow() |>\n",
    "              add_recipe(player_recipe) |>\n",
    "              add_model(player_spec) |>\n",
    "              fit(data = player_training)\n",
    "\n",
    "player_preds <- player_fit |>\n",
    "   predict(player_training) |>\n",
    "   bind_cols(player_training)\n",
    "\n",
    "\n",
    "player_preds"
   ]
  },
  {
   "cell_type": "code",
   "execution_count": null,
   "id": "ff2dac50-84fe-455b-b441-94b26edaf8e3",
   "metadata": {},
   "outputs": [],
   "source": [
    "player_test_results <- player_fit |>\n",
    "         predict(player_testing) |>\n",
    "         bind_cols(player_testing) |>\n",
    "         metrics(truth = played_hours, estimate = .pred)\n",
    "\n",
    "player_rmspe <- player_test_results |>\n",
    "          filter(.metric == \"rmse\") |>\n",
    "          select(.estimate) |>\n",
    "          pull()\n",
    "\n",
    "\n",
    "player_rmspe"
   ]
  },
  {
   "cell_type": "code",
   "execution_count": null,
   "id": "4c8dcad3-7ed8-41d1-838a-5f98d1c79a65",
   "metadata": {},
   "outputs": [],
   "source": [
    "player_spec_2 <- nearest_neighbor(weight_func = \"rectangular\", neighbors = tune()) |> \n",
    "       set_engine(\"kknn\") |>\n",
    "       set_mode(\"regression\") \n",
    "\n",
    "player_recipe_2 <- recipe(played_hours ~ experience_num, data = clean_players) |>\n",
    "       step_scale(all_predictors()) |>\n",
    "       step_center(all_predictors())\n",
    "\n",
    "player_vfold <- vfold_cv(player_training, v = 5, strata = played_hours)\n",
    "\n",
    "player_workflow_2 <- workflow() |>\n",
    "                     add_recipe(player_recipe_2)|>\n",
    "                     add_model(player_spec_2) \n",
    "\n",
    "player_workflow_2\n"
   ]
  },
  {
   "cell_type": "code",
   "execution_count": null,
   "id": "348b3f8f-e2c1-4be1-9ec3-4cb9277d15d5",
   "metadata": {},
   "outputs": [],
   "source": [
    "player_results <- \n",
    "       player_workflow_2|>\n",
    "       tune_grid(resamples = player_vfold, grid = gridvals) |>\n",
    "       collect_metrics()\n",
    "\n",
    "\n",
    "player_results"
   ]
  },
  {
   "cell_type": "code",
   "execution_count": null,
   "id": "31cdb13f-d640-4471-a4e8-3173d9a9727e",
   "metadata": {},
   "outputs": [],
   "source": [
    "player_min <- player_results |>\n",
    "    filter(.metric == \"rmse\") |>\n",
    "    slice_min(std_err, n = 1)\n",
    "\n",
    "player_min"
   ]
  },
  {
   "cell_type": "code",
   "execution_count": null,
   "id": "d67560e8-ea51-4255-9bdd-6c1864cc697e",
   "metadata": {},
   "outputs": [],
   "source": [
    "k_min <- player_min |>\n",
    "         pull(neighbors)\n",
    "\n",
    "player_best_spec <- nearest_neighbor(weight_func = \"rectangular\", neighbors = k_min) |>\n",
    "          set_engine(\"kknn\") |>\n",
    "          set_mode(\"regression\")\n",
    "\n",
    "player_best_fit <- workflow() |>\n",
    "          add_recipe(player_recipe_2) |>\n",
    "          add_model(player_best_spec) |>\n",
    "          fit(data = player_training)\n",
    "\n",
    "player_summary <- player_best_fit |>\n",
    "           predict(player_testing) |>\n",
    "           bind_cols(player_testing) \n",
    "          \n",
    "player_summary_2 <- player_summary|>\n",
    "                    metrics(truth = played_hours, estimate = .pred)\n",
    "\n",
    "player_summary\n",
    "player_summary_2"
   ]
  },
  {
   "cell_type": "code",
   "execution_count": null,
   "id": "be17b8c0-bcd8-4e17-9d16-0da9a731344f",
   "metadata": {},
   "outputs": [],
   "source": []
  },
  {
   "cell_type": "code",
   "execution_count": null,
   "id": "dd0215b6-5dba-4021-9c0d-a870ca0673a6",
   "metadata": {},
   "outputs": [],
   "source": []
  }
 ],
 "metadata": {
  "kernelspec": {
   "display_name": "R",
   "language": "R",
   "name": "ir"
  },
  "language_info": {
   "codemirror_mode": "r",
   "file_extension": ".r",
   "mimetype": "text/x-r-source",
   "name": "R",
   "pygments_lexer": "r",
   "version": "4.3.3"
  }
 },
 "nbformat": 4,
 "nbformat_minor": 5
}
